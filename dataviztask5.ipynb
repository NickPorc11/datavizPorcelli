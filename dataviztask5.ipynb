{
 "cells": [
  {
   "cell_type": "code",
   "execution_count": 7,
   "id": "10b82ff5-6572-46b3-8318-ddd09d23030d",
   "metadata": {},
   "outputs": [
    {
     "name": "stdout",
     "output_type": "stream",
     "text": [
      "Graph saved at /Users/nick/Desktop/USI/I semester/Data Analytics/dataviz portfolio/monetary_base_chart_with_labels.png\n"
     ]
    }
   ],
   "source": [
    "import pandas as pd\n",
    "import matplotlib.pyplot as plt\n",
    "\n",
    "# Load the dataset\n",
    "file_path = \"/Users/nick/Desktop/USI/I semester/Data Analytics/dataviz portfolio/dataset cleaned task 5.xlsx\"\n",
    "data = pd.ExcelFile(file_path)\n",
    "df = data.parse(\"Foglio1\")\n",
    "\n",
    "# Rename columns to make them more understandable\n",
    "df.rename(columns={\n",
    "    'observation_date': 'Date',\n",
    "    'MBCURRCIR_CNP16OV': 'Monetary Base (Currency in Circulation per Capita)'\n",
    "}, inplace=True)\n",
    "\n",
    "# Convert the Date column to datetime for proper plotting\n",
    "df['Date'] = pd.to_datetime(df['Date'])\n",
    "\n",
    "# Create a plot with a dark background and white line\n",
    "plt.figure(figsize=(12, 8))\n",
    "plt.plot(df['Date'], df['Monetary Base (Currency in Circulation per Capita)'], color='white', linewidth=1)\n",
    "\n",
    "# Set the background color to dark\n",
    "plt.gca().set_facecolor('black')\n",
    "plt.gcf().patch.set_facecolor('black')\n",
    "\n",
    "# Add labels and title with white text\n",
    "plt.title('Monetary Base Currency in Circulation per Capita (1959 - Present)', color='white', fontsize=16)\n",
    "plt.xlabel('Year', color='white', fontsize=14)\n",
    "plt.ylabel('Monetary Base (Currency in Circulation per Capita, in Trillions)', color='white', fontsize=14)\n",
    "\n",
    "# Add major ticks for years and values, and set their color to white\n",
    "plt.xticks(fontsize=10, color='white', rotation=45)  # Rotate for better readability\n",
    "plt.yticks(fontsize=10, color='white')\n",
    "\n",
    "# Set more specific ticks on the y-axis for precision\n",
    "plt.locator_params(axis='y', nbins=10)\n",
    "\n",
    "# Add gridlines for better guidance (optional, can be removed)\n",
    "plt.grid(color='gray', linestyle='--', linewidth=0.5)\n",
    "\n",
    "# Save the plot\n",
    "save_path = \"/Users/nick/Desktop/USI/I semester/Data Analytics/dataviz portfolio/monetary_base_chart_with_labels.png\"\n",
    "plt.tight_layout()\n",
    "plt.savefig(save_path, facecolor='black', dpi=300)\n",
    "plt.close()\n",
    "\n",
    "print(f\"Graph saved at {save_path}\")"
   ]
  },
  {
   "cell_type": "code",
   "execution_count": null,
   "id": "d156c86c-387a-458e-90e8-4e94b23dbe49",
   "metadata": {},
   "outputs": [],
   "source": []
  }
 ],
 "metadata": {
  "kernelspec": {
   "display_name": "Python 3 (ipykernel)",
   "language": "python",
   "name": "python3"
  },
  "language_info": {
   "codemirror_mode": {
    "name": "ipython",
    "version": 3
   },
   "file_extension": ".py",
   "mimetype": "text/x-python",
   "name": "python",
   "nbconvert_exporter": "python",
   "pygments_lexer": "ipython3",
   "version": "3.12.4"
  }
 },
 "nbformat": 4,
 "nbformat_minor": 5
}
